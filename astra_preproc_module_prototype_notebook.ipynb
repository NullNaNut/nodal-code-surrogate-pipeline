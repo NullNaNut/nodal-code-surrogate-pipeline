{
 "cells": [
  {
   "cell_type": "markdown",
   "id": "f5dcea5a",
   "metadata": {},
   "source": [
    "데이터 전처리 모듈은 6개의 파트로 구성 예정 (추후작성문구 시점:250915)\n",
    "\n",
    "1. AstraOutputCardsParser: 순수하게 (필요한)card의 내용을 parse하여 구조화 한 후 저장\n",
    "    - card_sequence → 근데 output cards에 있는 내용 모두를 parsing 할거 아님;; 등장한 순서대로 할 필요는 없음, 중복된 카드만 처리해서 저장하는 로직이면 됨\n",
    "    - card_data → formatted output cards\n",
    "2. AstraResultsContainer 클래스 → DTO 클래스\n",
    "    - 추출해야할 값들 위주로, 미리 정의해두고 추출하는게 좋을 듯 함\n",
    "        - 기존, 데이터 생성 모듈에서는 Deck이라는 빈 클래스를 이용해서 데이터를 수집했는데, 이건 원본 입력덱을 그대로 복사해 옮겨오기 위함이었고, 결과값 수집에는 이러한 복사과정 필요없고, 처리해야할 값들을 미리 정의하고 보관만 하면 됨.\n",
    "    - ASTRA Results: 추출 및 처리된 결과 데이터\n",
    "        - core params\n",
    "        - macro_xs_voxel\n",
    "        - in_core_distributions\n",
    "    - (추후 작성)From ASTRA DB: DB 내용을 구조화해 저장할 예정\n",
    "        - db_card_data = {연소도~~: 수치~~}\n",
    "3. AstraParametersExtractor\n",
    "4. (추후 작성)AstraMacXsVoxelBuilder\n",
    "5. (추후 작성)AstraDist3dBuilder\n",
    "6. (추후 작성)AstraDBParser\n",
    "7. (추후 작성)AstraBatchProcessor (일괄처리: 대용량 데이터를 모아 처리하는 방식)\n",
    "    - 파일갯수만큼 루프 만든 후\n",
    "        - 단일 파일 parser -> extractor/builder -> container 처리 후\n",
    "        - 파일갯수만큼 크기를 가진 리스트에 값들을 모아서 저장"
   ]
  },
  {
   "cell_type": "code",
   "execution_count": 1,
   "id": "a844b9db",
   "metadata": {},
   "outputs": [],
   "source": [
    "# 코드(스크립트) 작성용 샘플 출력파일, 경로 및 이름\n",
    "import os\n",
    "script_path = os.getcwd() # 현재 코드 위치 (raw data 위치 동일)\n",
    "os.chdir(script_path)\n",
    "sample_raw_data = \"sample_cycle_length_data_250814.out\""
   ]
  },
  {
   "cell_type": "markdown",
   "id": "902b56ee",
   "metadata": {},
   "source": [
    "# 1. AstraOutputCardsParser()"
   ]
  },
  {
   "cell_type": "code",
   "execution_count": null,
   "id": "ee1c0245",
   "metadata": {},
   "outputs": [],
   "source": [
    "# 주기길이 추출위해 필요한 입력카드 '-CBURN', '-RODP', '-ITER'\n",
    "class AstraOutputCardsParser():\n",
    "    def __init__(self, output_file_path):\n",
    "        self.output_file_path = output_file_path\n",
    "\n",
    "    def _parse_cburn_cards(self, step:int):\n",
    "        \"\"\"\n",
    "        ASTRA 출력파일(.out)에서 '-CBURN:[STEPS]' 카드를 조회해 필요한 값을 추출하는 함수\n",
    "        \n",
    "        Args:\n",
    "            step (int): 연소단계(burnup step)를 나타내는 정수값\n",
    "        \n",
    "        Return:\n",
    "            efpd_for_step (float): CYCLE 속성에서 확인할 수 있는, 일수(DAYS) 단위의 실수값 \n",
    "        \n",
    "        Examples:\n",
    "         -CBURN:42          CORE BURNUP INFORMATION                                               10440.5 MWD/MTU\n",
    "                    JOB ID: 0rtc61g0, CODE VERSION: ASTRA 1.4.4, USER ID: fnc, TIME: 08/14/2025 17:20:25                        \n",
    "\n",
    "                    MAXIMUM PIN (3-D)      BURNUP =  26450.0  AT (G ,8 , 8, 8, 5)\n",
    "                    MAXIMUM PIN (2-D)      BURNUP =  15354.9  AT (G ,8 , 5, 8)\n",
    "                    MAXIMUM ASSEMBLY (3-D) BURNUP =  22477.0  AT (G ,7 , 8)\n",
    "                    MAXIMUM ASSEMBLY (2-D) BURNUP =  13065.3  AT (H ,7 )\n",
    "                    AVERAGE CYCLE          BURNUP =  10440.5  MWD/MTU\n",
    "                    AVERAGE CORE           BURNUP =  10440.5  MWD/MTU\n",
    "                            CYCLE          EFPD   =    410.0  DAYS\n",
    "        \n",
    "        \n",
    "        \"\"\"\n",
    "\n",
    "\n",
    "\n",
    "        "
   ]
  },
  {
   "cell_type": "markdown",
   "id": "f0dfab01",
   "metadata": {},
   "source": [
    "# 2. AstraResultsContainer()"
   ]
  },
  {
   "cell_type": "markdown",
   "id": "7ff927a2",
   "metadata": {},
   "source": []
  },
  {
   "cell_type": "markdown",
   "id": "e2048716",
   "metadata": {},
   "source": [
    "# 3. AstraParametersExtractor()"
   ]
  },
  {
   "cell_type": "code",
   "execution_count": null,
   "id": "c060f31d",
   "metadata": {},
   "outputs": [],
   "source": [
    "class AstraParametersExtractor():\n",
    "    "
   ]
  },
  {
   "cell_type": "markdown",
   "id": "285ce6f3",
   "metadata": {},
   "source": [
    "# 4. AstraMacXsVoxelBuilder()\n",
    "추후작성예정(250915기준)"
   ]
  },
  {
   "cell_type": "code",
   "execution_count": null,
   "id": "64c35f94",
   "metadata": {},
   "outputs": [],
   "source": []
  },
  {
   "cell_type": "markdown",
   "id": "f4d78cfa",
   "metadata": {},
   "source": [
    "# 5. AstraDist3dBuilder()\n",
    "추후작성예정(250915기준)"
   ]
  },
  {
   "cell_type": "code",
   "execution_count": null,
   "id": "5449a61b",
   "metadata": {},
   "outputs": [],
   "source": []
  },
  {
   "cell_type": "markdown",
   "id": "2e4570aa",
   "metadata": {},
   "source": [
    "# 6. AstraDBParser()\n",
    "추후작성예정(250915기준)"
   ]
  },
  {
   "cell_type": "code",
   "execution_count": null,
   "id": "c9ed75af",
   "metadata": {},
   "outputs": [],
   "source": []
  },
  {
   "cell_type": "markdown",
   "id": "e42d1a18",
   "metadata": {},
   "source": []
  }
 ],
 "metadata": {
  "kernelspec": {
   "display_name": "Python 3",
   "language": "python",
   "name": "python3"
  },
  "language_info": {
   "codemirror_mode": {
    "name": "ipython",
    "version": 3
   },
   "file_extension": ".py",
   "mimetype": "text/x-python",
   "name": "python",
   "nbconvert_exporter": "python",
   "pygments_lexer": "ipython3",
   "version": "3.11.9"
  }
 },
 "nbformat": 4,
 "nbformat_minor": 5
}
