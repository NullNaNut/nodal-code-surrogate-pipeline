{
 "cells": [
  {
   "cell_type": "code",
   "execution_count": 146,
   "id": "da4f89b7",
   "metadata": {},
   "outputs": [],
   "source": [
    "import os\n",
    "import numpy as np\n",
    "from sklearn.model_selection import train_test_split\n",
    "import tensorflow as tf\n",
    "from tensorflow.keras.models import load_model\n",
    "\n",
    "trained_model_dir = \"F:/FNC 프로젝트/V-SMR/model_24DEC24_lossfunc_comparison_250715\"\n",
    "trained_model_dir_server = \"/home/jskwon/Desktop/projects/ongoing/NTC_SUB3/assy3d_BOC/model_24DEC24_lossfunc_comparison_250715\""
   ]
  },
  {
   "cell_type": "markdown",
   "id": "92edeea5",
   "metadata": {},
   "source": [
    "데이터셋\n",
    "- 250314 버전... 이 아니네 더 옛날꺼네\n",
    "- 입력1: XS, shape:(24,5,5,7)\n",
    "- 입력2: Rod, shape: (24,5,5)\n",
    "- 출력: P3D_assy, shape:(24,5,5)"
   ]
  },
  {
   "cell_type": "code",
   "execution_count": 147,
   "id": "73c95344",
   "metadata": {},
   "outputs": [],
   "source": [
    "os.chdir(trained_model_dir_server)\n",
    "\n",
    "# x_lp_3d = np.load(\"train_dataset_model_loss_function_evaluation_250730/filtered_LP_FA3D_09MAY24.npy\", allow_pickle=True)\n",
    "# x_rod_3d = np.load(\"train_dataset_model_loss_function_evaluation_250730/assywise_rod_map_layers_09MAY24.npy\", allow_pickle=True) \n",
    "# y_p3d = np.load(\"train_dataset_model_loss_function_evaluation_250730/filtered_FA_p3d_09MAY24.npy\", allow_pickle=True)\n",
    "\n",
    "x_lp_3d = np.load(\"../train_dataset/filtered_LP_FA3D_09MAY24.npy\", allow_pickle=True)\n",
    "x_rod_3d = np.load(\"../train_dataset/assywise_rod_map_layers_09MAY24.npy\", allow_pickle=True) \n",
    "y_p3d = np.load(\"../train_dataset/filtered_FA_p3d_09MAY24.npy\", allow_pickle=True)\n",
    "\n",
    "x1_train, x1_test, x2_train, x2_test, y_train, y_test = train_test_split(x_lp_3d,x_rod_3d, y_p3d, test_size=0.1, random_state=42)\n",
    "x1_train, x1_valid, x2_train, x2_valid, y_train, y_valid = train_test_split(x1_train,x2_train, y_train, test_size=0.05, random_state=22)\n",
    "\n",
    "# 데이터 타입 변환\n",
    "x1_train = np.array(x1_train, dtype=np.float32)\n",
    "x2_train = np.array(x2_train, dtype=np.float32)\n",
    "y_train = np.array(y_train, dtype=np.float32)\n",
    "x1_valid = np.array(x1_valid, dtype=np.float32)\n",
    "x2_valid = np.array(x2_valid, dtype=np.float32)\n",
    "y_valid = np.array(y_valid, dtype=np.float32)\n",
    "x1_test = np.array(x1_test, dtype=np.float32)\n",
    "x2_test = np.array(x2_test, dtype=np.float32)\n",
    "y_test = np.array(y_test, dtype=np.float32)"
   ]
  },
  {
   "cell_type": "markdown",
   "id": "9776292c",
   "metadata": {},
   "source": [
    "모델"
   ]
  },
  {
   "cell_type": "code",
   "execution_count": 58,
   "id": "cfa09d02",
   "metadata": {},
   "outputs": [],
   "source": [
    "model_path = \"model_rod3d_huber.h5\"\n",
    "\n",
    "model_temp = load_model(model_path, compile=False)"
   ]
  },
  {
   "cell_type": "code",
   "execution_count": 59,
   "id": "a4b9a10e",
   "metadata": {},
   "outputs": [
    {
     "name": "stdout",
     "output_type": "stream",
     "text": [
      "118/118 [==============================] - 2s 15ms/step\n"
     ]
    }
   ],
   "source": [
    "pred = model_temp.predict([x1_test,x2_test])\n",
    "pred_squeezed = np.squeeze(pred, axis=-1)"
   ]
  },
  {
   "cell_type": "code",
   "execution_count": 28,
   "id": "b4fef482",
   "metadata": {},
   "outputs": [
    {
     "data": {
      "text/plain": [
       "(3754, 24, 5, 5)"
      ]
     },
     "execution_count": 28,
     "metadata": {},
     "output_type": "execute_result"
    }
   ],
   "source": [
    "pred_squeezed.shape\n"
   ]
  },
  {
   "cell_type": "markdown",
   "id": "566cbeba",
   "metadata": {},
   "source": [
    "### 0. metrices"
   ]
  },
  {
   "cell_type": "code",
   "execution_count": 188,
   "id": "742c8dd0",
   "metadata": {},
   "outputs": [
    {
     "name": "stdout",
     "output_type": "stream",
     "text": [
      "118/118 [==============================] - 2s 12ms/step\n",
      "관심 영역(ROI) 내 전역 평균 절대 백분율 오차 (Global MAPE): 1.230%\n",
      "관심 영역(ROI) 내 전역 최대 절대 백분율 오차 (Global MaxAPE): 29.097%\n",
      "관심 영역(ROI) 내 Peak 예측의 전역 평균 절대 백분율 오차 (Global MAPE): 0.828%\n",
      "관심 영역(ROI) 내 Peak 예측의 전역 최대 절대 백분율 오차 (Global MaxAPE): 7.334%\n",
      "Peak 위치 (z,y,x) 예측 정확도: 89.40%\n",
      "Peak 위치 (z+-1,y,x) 예측 정확도: 96.30%\n",
      "Peak 위치 (:,y,x) 예측 정확도: 96.30%\n"
     ]
    },
    {
     "data": {
      "text/plain": [
       "96.29728289824187"
      ]
     },
     "execution_count": 188,
     "metadata": {},
     "output_type": "execute_result"
    }
   ],
   "source": [
    "model_path = \"model_rod3d_try5th_log_cosh.h5\"\n",
    "\n",
    "#\"model_rod3d_try5th_smape.h5\"\n",
    "model_temp = load_model(model_path, compile=False)\n",
    "pred = model_temp.predict([x1_test,x2_test])\n",
    "pred_squeezed = np.squeeze(pred, axis=-1)\n",
    "pred_symmetric = apply_symmetry(pred_squeezed)\n",
    "\n",
    "calculate_global_voxel_errors(y_test, pred_symmetric)\n",
    "calculate_peak_value_errors(y_test, pred_symmetric)\n",
    "calculate_peak_accuracy_symmetric(y_test, pred_symmetric)\n",
    "calculate_peak_accuracy_z_tolerant(y_test, pred_symmetric)\n",
    "calculate_peak_accuracy_xy_plane(y_test, pred_symmetric)"
   ]
  },
  {
   "cell_type": "markdown",
   "id": "e1df2385",
   "metadata": {},
   "source": [
    "118/118 [==============================] - 2s 12ms/step\n",
    "관심 영역(ROI) 내 전역 평균 절대 백분율 오차 (Global MAPE): 1.230%\n",
    "관심 영역(ROI) 내 전역 최대 절대 백분율 오차 (Global MaxAPE): 29.097%\n",
    "관심 영역(ROI) 내 Peak 예측의 전역 평균 절대 백분율 오차 (Global MAPE): 0.828%\n",
    "관심 영역(ROI) 내 Peak 예측의 전역 최대 절대 백분율 오차 (Global MaxAPE): 7.334%\n",
    "89.39797549280767"
   ]
  },
  {
   "cell_type": "markdown",
   "id": "40abe61d",
   "metadata": {},
   "source": [
    "### 1.전역 평균&최대 상대 퍼센트 오차"
   ]
  },
  {
   "cell_type": "code",
   "execution_count": 5,
   "id": "6383d140",
   "metadata": {},
   "outputs": [],
   "source": [
    "def calculate_global_voxel_errors(y_true, y_pred, voxel_type = \"assy\", epsilon=1e-08):\n",
    "    # voxel_type = \"assy\" / \"pin\"\n",
    "    if voxel_type == \"assy\":\n",
    "        # --- 마스크 생성 ---\n",
    "        mask_radial = np.ones((5, 5), dtype=bool)\n",
    "        mask_radial[3, 4] = False\n",
    "        mask_radial[4, 3] = False\n",
    "        mask_radial[4, 4] = False\n",
    "        # 처음부터 boolean으로 만들면 .astype(bool)이 필요 없습니다.\n",
    "\n",
    "        # (24, 5, 5) 형태로 복셀 마스크 생성\n",
    "        mask_voxel = np.tile(mask_radial, (24, 1, 1))\n",
    "\n",
    "        # --- MAPE 계산 ---\n",
    "\n",
    "        # 1. 마스크를 사용해 관심 영역의 데이터만 추출\n",
    "        y_test_masked = y_test[:, mask_voxel] # y_test/pred_squeezed의 각 샘플에 동일한 마스크를 적용\n",
    "        pred_masked = pred_squeezed[:, mask_voxel]\n",
    "\n",
    "        # 2. 0으로 나누기 방지를 위한 epsilon 설정\n",
    "        epsilon = epsilon\n",
    "\n",
    "        # 3. 마스킹된 데이터에 대해 APE(절대 백분율 오차) 계산\n",
    "        percent_errors = np.abs((y_test_masked - pred_masked) / (y_test_masked + epsilon)) * 100\n",
    "\n",
    "        # 4. 모든 APE의 평균을 내어 최종 MAPE(평균 절대 백분율 오차) 계산\n",
    "        global_mape = np.mean(percent_errors)\n",
    "        global_maxape = np.max(percent_errors)\n",
    "\n",
    "        print(f\"관심 영역(ROI) 내 전역 평균 절대 백분율 오차 (Global MAPE): {global_mape:.3f}%\")\n",
    "        print(f\"관심 영역(ROI) 내 전역 최대 절대 백분율 오차 (Global MaxAPE): {global_maxape:.3f}%\")\n",
    "        \n",
    "        return global_mape, global_maxape\n",
    "    \n",
    "        \n"
   ]
  },
  {
   "cell_type": "code",
   "execution_count": 111,
   "id": "f27687c0",
   "metadata": {},
   "outputs": [
    {
     "name": "stdout",
     "output_type": "stream",
     "text": [
      "관심 영역(ROI) 내 전역 평균 절대 백분율 오차 (Global MAPE): 1.43%\n",
      "관심 영역(ROI) 내 전역 최대 절대 백분율 오차 (Global MaxAPE): 33.83%\n"
     ]
    }
   ],
   "source": [
    "calculate_global_voxel_errors(y_test, pred_squeezed)"
   ]
  },
  {
   "cell_type": "markdown",
   "id": "b5877e3e",
   "metadata": {},
   "source": [
    "### 2. peak value error\n",
    "- np.where()을 사용하면, 해당 value의 위치 인덱스는 반환됨"
   ]
  },
  {
   "cell_type": "markdown",
   "id": "4829ce29",
   "metadata": {},
   "source": [
    "NumPy의 axis를 사용하는 벡터화(Vectorized) 방법 (for문 루프 대체)"
   ]
  },
  {
   "cell_type": "code",
   "execution_count": 6,
   "id": "3436d0b8",
   "metadata": {},
   "outputs": [],
   "source": [
    "def calculate_peak_value_errors(y_true, y_pred, voxel_type = \"assy\", epsilon=1e-08):\n",
    "\n",
    "    # axis=(1, 2, 3)을 지정하여 해당 축들을 기준으로 최댓값을 계산\n",
    "    # (3754, 24, 5, 5) -> (3754,)의 배열이 생성\n",
    "    peak_values_pred_vectorized = np.max(pred_squeezed, axis=(1, 2, 3))\n",
    "    peak_values_true_vectorized = np.max(y_test, axis=(1, 2, 3))\n",
    "\n",
    "    # print(f\"예측값 Peak 배열 Shape: {peak_values_pred_vectorized.shape}\")\n",
    "    # print(f\"실제값 Peak 배열 Shape: {peak_values_true_vectorized.shape}\")\n",
    "\n",
    "    percent_errors_peak_values = abs((peak_values_true_vectorized-peak_values_pred_vectorized)/peak_values_true_vectorized+epsilon)*100\n",
    "    peak_value_mape = np.mean(percent_errors_peak_values)\n",
    "    peak_value_maxape = np.max(percent_errors_peak_values)\n",
    "\n",
    "    print(f\"관심 영역(ROI) 내 Peak 예측의 전역 평균 절대 백분율 오차 (Global MAPE): {peak_value_mape:.3f}%\")\n",
    "    print(f\"관심 영역(ROI) 내 Peak 예측의 전역 최대 절대 백분율 오차 (Global MaxAPE): {peak_value_maxape:.3f}%\")\n",
    "\n",
    "    return peak_value_mape, peak_value_maxape"
   ]
  },
  {
   "cell_type": "code",
   "execution_count": 113,
   "id": "dd29a231",
   "metadata": {},
   "outputs": [
    {
     "name": "stdout",
     "output_type": "stream",
     "text": [
      "관심 영역(ROI) 내 Peak 예측의 전역 평균 절대 백분율 오차 (Global MAPE): 0.78%\n",
      "관심 영역(ROI) 내 Peak 예측의 전역 최대 절대 백분율 오차 (Global MaxAPE): 8.12%\n"
     ]
    }
   ],
   "source": [
    "calculate_peak_value_errors(y_test, pred_squeezed)"
   ]
  },
  {
   "cell_type": "code",
   "execution_count": 56,
   "id": "36bd90a6",
   "metadata": {},
   "outputs": [
    {
     "data": {
      "text/plain": [
       "(0.78475463, 8.11692)"
      ]
     },
     "execution_count": 56,
     "metadata": {},
     "output_type": "execute_result"
    }
   ],
   "source": [
    "peak_value_mape, peak_value_maxape"
   ]
  },
  {
   "cell_type": "code",
   "execution_count": 63,
   "id": "9b489c63",
   "metadata": {},
   "outputs": [
    {
     "data": {
      "text/plain": [
       "(3754, 600)"
      ]
     },
     "execution_count": 63,
     "metadata": {},
     "output_type": "execute_result"
    }
   ],
   "source": [
    "pred_reshaped.shape"
   ]
  },
  {
   "cell_type": "code",
   "execution_count": 67,
   "id": "320b5388",
   "metadata": {},
   "outputs": [
    {
     "data": {
      "text/plain": [
       "(24, 5, 5)"
      ]
     },
     "execution_count": 67,
     "metadata": {},
     "output_type": "execute_result"
    }
   ],
   "source": [
    "pred_squeezed.shape[1:]"
   ]
  },
  {
   "cell_type": "code",
   "execution_count": 69,
   "id": "2cc8d788",
   "metadata": {},
   "outputs": [
    {
     "data": {
      "text/plain": [
       "array([475, 412, 412, ..., 450, 428, 428], dtype=int64)"
      ]
     },
     "execution_count": 69,
     "metadata": {},
     "output_type": "execute_result"
    }
   ],
   "source": [
    "flat_indices_pred"
   ]
  },
  {
   "cell_type": "code",
   "execution_count": 71,
   "id": "a3d23721",
   "metadata": {},
   "outputs": [
    {
     "data": {
      "text/plain": [
       "(array([19, 16, 16, ..., 18, 17, 17], dtype=int64),\n",
       " array([0, 2, 2, ..., 0, 0, 0], dtype=int64),\n",
       " array([0, 2, 2, ..., 0, 3, 3], dtype=int64))"
      ]
     },
     "execution_count": 71,
     "metadata": {},
     "output_type": "execute_result"
    }
   ],
   "source": [
    "voxel_indices_pred"
   ]
  },
  {
   "cell_type": "code",
   "execution_count": 89,
   "id": "18c0d288",
   "metadata": {},
   "outputs": [],
   "source": [
    "# 1~3 과정: 1차원 배열로 펼친 후 최대값의 인덱스를 찾은 후 다시 3차원 인덱스로 재변환\n",
    "    # np.prod(): 리스트의 원소곱을 반환하는 함수이나, 단순히 차원을 곱하기 위해 사용, 24*5*5\n",
    "    # np.argmax(): 해당 축방향을 따라서 최대값의 인덱스를 반환\n",
    "        # 3차원 축방향에 대해서 3번 쓰는것보다, flatten한뒤 복구하는게 편하겠지\n",
    "\n",
    "# 1. (24, 5, 5) 복셀을 1차원으로 펼쳐서 (3754, 600) 형태로 만듭니다.\n",
    "#    (24 * 5 * 5 = 600)\n",
    "num_samples = pred_squeezed.shape[0]\n",
    "voxel_size = np.prod(pred_squeezed.shape[1:]) # 24*5*5 = 600\n",
    "pred_reshaped = pred_squeezed.reshape(num_samples, voxel_size) # (3754, 600)\n",
    "y_test_reshaped =y_test.reshape(num_samples, voxel_size)\n",
    "\n",
    "# 2. 펼쳐진 축(axis=1)을 따라 각 샘플의 최대값 인덱스를 반환 (Returns the indices of the maximum values along an axis.)\n",
    "    # 결과는 각 샘플별 peak의 1차원 인덱스 배열 (shape: (3754,))\n",
    "    # 예시: [475, 412, 412, ..., 450, 428, 428] -> 1차원으로 변환했을때의 최대값 인덱스\n",
    "flat_indices_pred = np.argmax(pred_reshaped, axis=1) \n",
    "flat_indices_true = np.argmax(y_test_reshaped, axis=1)\n",
    "\n",
    "# 3. 1차원 인덱스를 다시 (z, y, x) 형태의 3차원 복셀 인덱스로 변환\n",
    "#    np.unravel_index는 인덱스 배열 전체에 대해 한 번에 연산 가능\n",
    "voxel_indices_pred = np.unravel_index(flat_indices_pred, pred_squeezed.shape[1:]) # pred_squeezed.shape[1:] = (24, 5, 5)\n",
    "voxel_indices_true = np.unravel_index(flat_indices_true, y_test.shape[1:])\n",
    "\n",
    "# voxel_indices_pred는 (z_indices, y_indices, x_indices) 형태의 튜플입니다.\n",
    "# 각 요소는 (3754,) 크기의 배열\n",
    "\n",
    "# 4. (샘플수, 3)의 형태이며, 3은 (z,y,x)\n",
    "peak_indices_array_pred = np.stack(voxel_indices_pred, axis=1)\n",
    "peak_indices_array_true = np.stack(voxel_indices_true, axis=1)\n",
    "\n",
    "\n",
    "# --- 인덱스 좌표(z,y,x)가 동일한지 비교 ---\n",
    "\n",
    "# 1. 요소별 비교: (3754, 3) 모양의 boolean 배열 생성\n",
    "#    [[True, True, True],   <- 0번 샘플: z,y,x 모두 일치\n",
    "#     [True, True, False],  <- 1번 샘플: x가 불일치\n",
    "comparison_array = (peak_indices_array_pred == peak_indices_array_true)\n",
    "# 2. 각 행(axis=1)의 모든 요소가 True인지 확인\n",
    "#    결과는 (3754,) shape의 최종 boolean 배열\n",
    "matches = np.all(comparison_array, axis=1)\n",
    "\n",
    "accuracy_peak_location = np.mean(matches) * 100\n",
    "\n"
   ]
  },
  {
   "cell_type": "code",
   "execution_count": 90,
   "id": "da59839a",
   "metadata": {},
   "outputs": [
    {
     "data": {
      "text/plain": [
       "74.88012786361215"
      ]
     },
     "execution_count": 90,
     "metadata": {},
     "output_type": "execute_result"
    }
   ],
   "source": [
    "accuracy_peak_location"
   ]
  },
  {
   "cell_type": "markdown",
   "id": "37b6ebff",
   "metadata": {},
   "source": [
    "### 3. peak location accuracy"
   ]
  },
  {
   "cell_type": "markdown",
   "id": "dfbb4700",
   "metadata": {},
   "source": [
    "함수 2개 추가됨, 대칭 고려버전은 그대로 사용하면됨\n",
    "- z축을 기준으로 특정 지점의 한칸 아래/위에 있는 경우 (Axial Tolerance)\n",
    "- 2차원 좌표(x,y)가 일치하는 경우 (XY plane Projection)"
   ]
  },
  {
   "cell_type": "code",
   "execution_count": 149,
   "id": "f79d0a3c",
   "metadata": {},
   "outputs": [],
   "source": [
    "def calculate_peak_accuracy_z_tolerant(y_true, y_pred):\n",
    "    \"\"\"\n",
    "    (신규 지표 1) Z축 근접성을 허용하여 Peak 위치 예측 정확도를 계산합니다.\n",
    "    기존 대칭 정확도 조건에 더해, (x,y)가 일치하고 z가 ±1 차이 나도 정답으로 인정합니다.\n",
    "\n",
    "    Args:\n",
    "        y_true (np.ndarray): 실제값 배열.\n",
    "        y_pred (np.ndarray): 예측값 배열.\n",
    "\n",
    "    Returns:\n",
    "        float: Z축 근접성을 허용한 Peak 위치 예측 정확도 (%).\n",
    "    \"\"\"\n",
    "    # --- 1. Reshape & Find 1D/3D indices (공통 로직) ---\n",
    "    num_samples = y_pred.shape[0]\n",
    "    voxel_shape = y_pred.shape[1:]\n",
    "    \n",
    "    pred_reshaped = y_pred.reshape(num_samples, -1)\n",
    "    y_true_reshaped = y_true.reshape(num_samples, -1)\n",
    "\n",
    "    flat_indices_pred = np.argmax(pred_reshaped, axis=1)\n",
    "    flat_indices_true = np.argmax(y_true_reshaped, axis=1)\n",
    "\n",
    "    peak_indices_pred = np.stack(np.unravel_index(flat_indices_pred, voxel_shape), axis=1)\n",
    "    peak_indices_true = np.stack(np.unravel_index(flat_indices_true, voxel_shape), axis=1)\n",
    "\n",
    "    # --- 2. 기존 대칭 정확도 계산 ---\n",
    "    pred_z, pred_y, pred_x = peak_indices_pred[:, 0], peak_indices_pred[:, 1], peak_indices_pred[:, 2]\n",
    "    true_z, true_y, true_x = peak_indices_true[:, 0], peak_indices_true[:, 1], peak_indices_true[:, 2]\n",
    "\n",
    "    peak_indices_true_symmetric = np.stack([true_z, true_x, true_y], axis=1)\n",
    "    matches_direct = np.all(peak_indices_pred == peak_indices_true, axis=1)\n",
    "    matches_symmetric = np.all(peak_indices_pred == peak_indices_true_symmetric, axis=1)\n",
    "    base_matches = np.logical_or(matches_direct, matches_symmetric)\n",
    "\n",
    "    # --- 3. Z축 근접 허용 조건 추가 ---\n",
    "    # 조건 A: (y,x) 좌표가 직접 또는 대칭으로 일치하는가?\n",
    "    xy_match_direct = (pred_y == true_y) & (pred_x == true_x)\n",
    "    xy_match_symmetric = (pred_y == true_x) & (pred_x == true_y)\n",
    "    xy_match_any = np.logical_or(xy_match_direct, xy_match_symmetric)\n",
    "    \n",
    "    # 조건 B: z 좌표가 위 또는 아래로 인접하는가?\n",
    "    z_is_adjacent = np.logical_or(pred_z == true_z - 1, pred_z == true_z + 1)\n",
    "\n",
    "    # Z축 근접 정답: 조건 A와 조건 B를 모두 만족\n",
    "    matches_z_tolerant = np.logical_and(xy_match_any, z_is_adjacent)\n",
    "\n",
    "    # --- 4. 최종 정확도 계산 ---\n",
    "    # 기본 정답 또는 Z축 근접 정답 중 하나라도 만족하면 최종 정답\n",
    "    final_matches = np.logical_or(base_matches, matches_z_tolerant)\n",
    "    \n",
    "    accuracy = np.mean(final_matches) * 100\n",
    "    \n",
    "    print(f\"Peak 위치 (z+-1,y,x) 예측 정확도: {accuracy:.2f}%\")\n",
    "    \n",
    "    return accuracy"
   ]
  },
  {
   "cell_type": "code",
   "execution_count": 150,
   "id": "fe3c6bea",
   "metadata": {},
   "outputs": [],
   "source": [
    "def calculate_peak_accuracy_xy_plane(y_true, y_pred):\n",
    "    \"\"\"\n",
    "    (신규 지표 2) Z축을 무시하고 XY 평면의 대칭성만으로 Peak 위치 정확도를 계산합니다.\n",
    "    예측 피크의 (y,x) 좌표가 실제 피크의 (y,x) 또는 (x,y)와 일치하면 정답으로 처리합니다.\n",
    "\n",
    "    Args:\n",
    "        y_true (np.ndarray): 실제값 배열.\n",
    "        y_pred (np.ndarray): 예측값 배열.\n",
    "\n",
    "    Returns:\n",
    "        float: XY 평면 투영 Peak 위치 예측 정확도 (%).\n",
    "    \"\"\"\n",
    "    # --- 1. Reshape & Find 1D/3D indices (공통 로직) ---\n",
    "    num_samples = y_pred.shape[0]\n",
    "    voxel_shape = y_pred.shape[1:]\n",
    "    \n",
    "    pred_reshaped = y_pred.reshape(num_samples, -1)\n",
    "    y_true_reshaped = y_true.reshape(num_samples, -1)\n",
    "\n",
    "    flat_indices_pred = np.argmax(pred_reshaped, axis=1)\n",
    "    flat_indices_true = np.argmax(y_true_reshaped, axis=1)\n",
    "\n",
    "    peak_indices_pred = np.stack(np.unravel_index(flat_indices_pred, voxel_shape), axis=1)\n",
    "    peak_indices_true = np.stack(np.unravel_index(flat_indices_true, voxel_shape), axis=1)\n",
    "\n",
    "    # --- 2. XY 평면 좌표만 추출 ---\n",
    "    pred_y, pred_x = peak_indices_pred[:, 1], peak_indices_pred[:, 2]\n",
    "    true_y, true_x = peak_indices_true[:, 1], peak_indices_true[:, 2]\n",
    "\n",
    "    # --- 3. XY 평면에서의 대칭 정확도 계산 ---\n",
    "    # 경우 1: (y,x) 좌표가 직접 일치\n",
    "    matches_direct_xy = (pred_y == true_y) & (pred_x == true_x)\n",
    "    \n",
    "    # 경우 2: (y,x) 좌표가 대각 대칭으로 일치 (pred(y,x) == true(x,y))\n",
    "    matches_symmetric_xy = (pred_y == true_x) & (pred_x == true_y)\n",
    "\n",
    "    # 두 경우 중 하나라도 만족하면 최종 정답\n",
    "    final_matches = np.logical_or(matches_direct_xy, matches_symmetric_xy)\n",
    "    \n",
    "    accuracy = np.mean(final_matches) * 100\n",
    "    \n",
    "    print(f\"Peak 위치 (:,y,x) 예측 정확도: {accuracy:.2f}%\")\n",
    "    \n",
    "    return accuracy"
   ]
  },
  {
   "cell_type": "markdown",
   "id": "967f35f2",
   "metadata": {},
   "source": [
    "대칭 고려버전\n",
    "- 둘다 True로 판단 (z, y, x) == (z, x, y)"
   ]
  },
  {
   "cell_type": "code",
   "execution_count": 151,
   "id": "d9129dec",
   "metadata": {},
   "outputs": [],
   "source": [
    "def calculate_peak_accuracy_symmetric(y_true, y_pred):\n",
    "    \"\"\"\n",
    "    대칭성을 고려하여 각 샘플의 Peak 위치 예측 정확도를 계산하는 함수.\n",
    "    예측 피크 위치가 실제 피크 위치 또는 그 대칭 위치와 일치하면 정답으로 처리합니다.\n",
    "\n",
    "    Args:\n",
    "        y_true (np.ndarray): 실제값 배열. (샘플 수, 24, 5, 5) 형태.\n",
    "        y_pred (np.ndarray): 예측값 배열. (샘플 수, 24, 5, 5) 형태.\n",
    "\n",
    "    Returns:\n",
    "        float: Peak 위치 예측 정확도 (%).\n",
    "    \"\"\"\n",
    "    # --- 1. Reshape & Flatten ---\n",
    "    num_samples = y_pred.shape[0]\n",
    "    voxel_size = np.prod(y_pred.shape[1:])\n",
    "    pred_reshaped = y_pred.reshape(num_samples, voxel_size)\n",
    "    y_true_reshaped = y_true.reshape(num_samples, voxel_size)\n",
    "\n",
    "    # --- 2. Find 1D indices of max values ---\n",
    "    flat_indices_pred = np.argmax(pred_reshaped, axis=1)\n",
    "    flat_indices_true = np.argmax(y_true_reshaped, axis=1)\n",
    "\n",
    "    # --- 3. Unravel 1D indices back to 3D indices ---\n",
    "    voxel_shape = y_pred.shape[1:]\n",
    "    voxel_indices_pred = np.unravel_index(flat_indices_pred, voxel_shape)\n",
    "    voxel_indices_true = np.unravel_index(flat_indices_true, voxel_shape)\n",
    "\n",
    "    # --- 4. Stack indices to (N, 3) arrays ---\n",
    "    peak_indices_pred = np.stack(voxel_indices_pred, axis=1) # (샘플수, 3) [z, y, x]\n",
    "    peak_indices_true = np.stack(voxel_indices_true, axis=1) # (샘플수, 3) [z, y, x]\n",
    "\n",
    "    # --- 5. 대칭성을 고려하여 정확도 계산 (수정된 부분) ---\n",
    "\n",
    "    # 5a. 정답 인덱스의 z, y, x를 분리\n",
    "    true_z = peak_indices_true[:, 0]\n",
    "    true_y = peak_indices_true[:, 1]\n",
    "    true_x = peak_indices_true[:, 2]\n",
    "\n",
    "    # 5b. 대칭 관계에 있는 정답 인덱스 배열 생성: (z, x, y)\n",
    "    peak_indices_true_symmetric = np.stack([true_z, true_x, true_y], axis=1)\n",
    "\n",
    "    # 5c. 두 가지 경우에 대해 일치 여부 확인\n",
    "    # 경우 1: 예측 인덱스가 원본 정답 인덱스와 일치하는가?\n",
    "    # (pred_z == true_z) AND (pred_y == true_y) AND (pred_x == true_x)\n",
    "    matches_direct = np.all(peak_indices_pred == peak_indices_true, axis=1)\n",
    "    \n",
    "    # 경우 2: 예측 인덱스가 대칭 정답 인덱스와 일치하는가?\n",
    "    # (pred_z == true_z) AND (pred_y == true_x) AND (pred_x == true_y)\n",
    "    matches_symmetric = np.all(peak_indices_pred == peak_indices_true_symmetric, axis=1)\n",
    "\n",
    "    # 5d. 두 경우 중 하나라도 만족하면 최종 정답으로 처리 (logical OR)\n",
    "    final_matches = np.logical_or(matches_direct, matches_symmetric)\n",
    "    \n",
    "    accuracy = np.mean(final_matches) * 100\n",
    "    print(f\"Peak 위치 (z,y,x) 예측 정확도: {accuracy:.2f}%\")\n",
    "    \n",
    "    return accuracy"
   ]
  },
  {
   "cell_type": "markdown",
   "id": "a68937aa",
   "metadata": {},
   "source": [
    "기존버전, 대칭을 고려하지 않았음 (250730 오전)"
   ]
  },
  {
   "cell_type": "code",
   "execution_count": 7,
   "id": "145badb0",
   "metadata": {},
   "outputs": [
    {
     "name": "stdout",
     "output_type": "stream",
     "text": [
      "Peak 위치 예측 정확도: 64.94%\n",
      "Peak 위치 예측 정확도: 64.94%\n"
     ]
    }
   ],
   "source": [
    "def calculate_peak_location_accuracy(y_true, y_pred, voxel_type ='assy'):\n",
    "    \"\"\"\n",
    "    각 샘플의 Peak 위치 예측 정확도를 계산하는 함수\n",
    "    (복셀(Voxel)의 인덱스를 1D로 펼친 후 최대값 인덱스를 찾고 다시 3D 인덱스로 재변환)\n",
    "    - np.prod(): 리스트의 원소곱을 반환하는 함수이나, 단순히 차원을 곱하기 위해 사용, (24,5,5) -> 24*5*5\n",
    "    - np.argmax(): 해당 축방향을 따라서 최대값의 인덱스를 반환\n",
    "\n",
    "    Args:\n",
    "        y_true (np.ndarray): 실제값 배열. (샘플 수, 24, 5, 5) 형태.\n",
    "        y_pred (np.ndarray): 예측값 배열. (샘플 수, 24, 5, 5) 형태.\n",
    "        voxel_type (string): 오차 계산 시 집합체단위 또는 봉단위인지를 명시\n",
    "\n",
    "    Returns:\n",
    "        float: Peak 위치 예측 정확도 (%).\n",
    "    \"\"\"\n",
    "    if voxel_type == 'assy':\n",
    "\n",
    "        # --- 1. Reshape & Flatten ---\n",
    "            # 예) (24, 5, 5) 복셀을 1차원으로 펼쳐서 (3754, 600) 형태로 변환\n",
    "        num_samples = y_pred.shape[0] # 3754\n",
    "        voxel_size = np.prod(y_pred.shape[1:]) # # 24*5*5 = 600\n",
    "        pred_reshaped = y_pred.reshape(num_samples, voxel_size) # (3754, 600, pred\n",
    "        y_true_reshaped = y_true.reshape(num_samples, voxel_size) # (3754, 600), true\n",
    "\n",
    "        # --- 2. Find 1D indices of max values ---\n",
    "            # 펼쳐진 축(axis=1)을 따라 각 샘플의 최대값 인덱스를 반환\n",
    "            # 예) [475, 412, 412, ..., 450, 428, 428]: 1차원으로 변환했을때의 최대값 인덱스\n",
    "        flat_indices_pred = np.argmax(pred_reshaped, axis=1) # (shape: (3754,))\n",
    "        flat_indices_true = np.argmax(y_true_reshaped, axis=1) # (shape: (3754,))\n",
    "\n",
    "        # --- 3. Unravel 1D indices back to 3D indices ---\n",
    "            # 1차원 인덱스를 다시 (z, y, x) 형태의 3차원 복셀 인덱스로 변환\n",
    "        voxel_shape = y_pred.shape[1:] # y_pred.shape[1:] = (24, 5, 5)\n",
    "        voxel_indices_pred = np.unravel_index(flat_indices_pred, voxel_shape)\n",
    "        voxel_indices_true = np.unravel_index(flat_indices_true, voxel_shape)\n",
    "\n",
    "        # --- 4. Stack indices to (N, 3) arrays ---\n",
    "            # (샘플수, 3)의 형태이며, 3은 (z,y,x)를 의미\n",
    "        peak_indices_array_pred = np.stack(voxel_indices_pred, axis=1)\n",
    "        peak_indices_array_true = np.stack(voxel_indices_true, axis=1)\n",
    "\n",
    "        # --- 5. Compare indices and calculate accuracy ---\n",
    "            # 요소별 비교: (3754, 3) 모양의 boolean 배열 생성\n",
    "            #    [[True, True, True],   <- 0번 샘플: z,y,x 모두 일치\n",
    "            #     [True, True, False],  <- 1번 샘플: x가 불일치\n",
    "        comparison_array = (peak_indices_array_pred == peak_indices_array_true)\n",
    "            # 각 행(axis=1)의 모든 요소가 True인지 확인\n",
    "            # 결과는 (3754,) shape의 최종 boolean 배열\n",
    "        matches = np.all(comparison_array, axis=1)\n",
    "        \n",
    "        accuracy = np.mean(matches) * 100 # 평균값 * 100: 정확도\n",
    "        print(f\"Peak 위치 예측 정확도: {accuracy:.2f}%\")\n",
    "        \n",
    "        return accuracy\n",
    "\n",
    "peak_accuracy = calculate_peak_location_accuracy(y_test, pred_squeezed)\n",
    "\n",
    "print(f\"Peak 위치 예측 정확도: {peak_accuracy:.2f}%\")"
   ]
  },
  {
   "cell_type": "code",
   "execution_count": 74,
   "id": "f67c8309",
   "metadata": {},
   "outputs": [
    {
     "data": {
      "text/plain": [
       "array([[19,  0,  0],\n",
       "       [16,  2,  2],\n",
       "       [16,  2,  2],\n",
       "       ...,\n",
       "       [18,  0,  0],\n",
       "       [17,  0,  3],\n",
       "       [17,  0,  3]], dtype=int64)"
      ]
     },
     "execution_count": 74,
     "metadata": {},
     "output_type": "execute_result"
    }
   ],
   "source": [
    "peak_indices_array_pred"
   ]
  },
  {
   "cell_type": "code",
   "execution_count": 76,
   "id": "61acc891",
   "metadata": {},
   "outputs": [],
   "source": [
    "comparison_array = (peak_indices_array_pred == peak_indices_array_true)\n",
    "# 2. 각 행(axis=1)의 모든 요소가 True인지 확인\n",
    "#    결과는 (3754,) shape의 최종 boolean 배열\n",
    "matches = np.all(comparison_array, axis=1)"
   ]
  },
  {
   "cell_type": "code",
   "execution_count": 77,
   "id": "65810709",
   "metadata": {},
   "outputs": [
    {
     "data": {
      "text/plain": [
       "array([ True,  True,  True, ...,  True,  True,  True])"
      ]
     },
     "execution_count": 77,
     "metadata": {},
     "output_type": "execute_result"
    }
   ],
   "source": [
    "matches"
   ]
  },
  {
   "cell_type": "markdown",
   "id": "8165906f",
   "metadata": {},
   "source": [
    "동일코드이나, 반복문 활용 (검증용)"
   ]
  },
  {
   "cell_type": "code",
   "execution_count": 60,
   "id": "2159dc96",
   "metadata": {},
   "outputs": [
    {
     "name": "stdout",
     "output_type": "stream",
     "text": [
      "\n",
      "--- 반복문 방식 결과 ---\n",
      "결과 배열 Shape: (3754, 3)\n",
      "\n",
      "첫 5개 샘플의 Peak 복셀 인덱스 (z, y, x):\n",
      "[[19  0  0]\n",
      " [16  2  2]\n",
      " [16  2  2]\n",
      " [18  0  2]\n",
      " [17  2  2]]\n"
     ]
    }
   ],
   "source": [
    "num_test_data = y_test.shape[0]\n",
    "peak_indices_list = []\n",
    "\n",
    "for i in range(num_test_data):\n",
    "    # i번째 샘플 (24, 5, 5)\n",
    "    sample_data = pred_squeezed[i]\n",
    "    \n",
    "    # 1. i번째 샘플 내에서 최대값의 1차원 인덱스를 찾음\n",
    "    flat_index = np.argmax(sample_data)\n",
    "    \n",
    "    # 2. 1차원 인덱스를 (z, y, x) 3차원 인덱스로 변환\n",
    "    multi_dim_index = np.unravel_index(flat_index, sample_data.shape)\n",
    "    \n",
    "    peak_indices_list.append(multi_dim_index)\n",
    "\n",
    "# 리스트를 NumPy 배열로 변환\n",
    "peak_indices_array_loop = np.array(peak_indices_list)\n",
    "\n",
    "print(\"\\n--- 반복문 방식 결과 ---\")\n",
    "print(f\"결과 배열 Shape: {peak_indices_array_loop.shape}\")\n",
    "print(\"\\n첫 5개 샘플의 Peak 복셀 인덱스 (z, y, x):\")\n",
    "print(peak_indices_array_loop[:5])"
   ]
  },
  {
   "cell_type": "markdown",
   "id": "78473d80",
   "metadata": {},
   "source": [
    "### 0. Post Processing: 대각 대칭화 "
   ]
  },
  {
   "cell_type": "code",
   "execution_count": 63,
   "id": "ec87c75b",
   "metadata": {},
   "outputs": [],
   "source": [
    "pred[0].shape\n",
    "pred_squeezed = np.squeeze(pred)"
   ]
  },
  {
   "cell_type": "code",
   "execution_count": 64,
   "id": "3bf7d165",
   "metadata": {},
   "outputs": [
    {
     "data": {
      "text/plain": [
       "(3754, 24, 5, 5)"
      ]
     },
     "execution_count": 64,
     "metadata": {},
     "output_type": "execute_result"
    }
   ],
   "source": [
    "pred_squeezed.shape"
   ]
  },
  {
   "cell_type": "code",
   "execution_count": 135,
   "id": "6847b070",
   "metadata": {},
   "outputs": [
    {
     "data": {
      "text/html": [
       "<div>\n",
       "<style scoped>\n",
       "    .dataframe tbody tr th:only-of-type {\n",
       "        vertical-align: middle;\n",
       "    }\n",
       "\n",
       "    .dataframe tbody tr th {\n",
       "        vertical-align: top;\n",
       "    }\n",
       "\n",
       "    .dataframe thead th {\n",
       "        text-align: right;\n",
       "    }\n",
       "</style>\n",
       "<table border=\"1\" class=\"dataframe\">\n",
       "  <thead>\n",
       "    <tr style=\"text-align: right;\">\n",
       "      <th></th>\n",
       "      <th>0</th>\n",
       "      <th>1</th>\n",
       "      <th>2</th>\n",
       "      <th>3</th>\n",
       "      <th>4</th>\n",
       "    </tr>\n",
       "  </thead>\n",
       "  <tbody>\n",
       "    <tr>\n",
       "      <th>0</th>\n",
       "      <td>0.436258</td>\n",
       "      <td>0.390186</td>\n",
       "      <td>0.252355</td>\n",
       "      <td>0.469171</td>\n",
       "      <td>0.330828</td>\n",
       "    </tr>\n",
       "    <tr>\n",
       "      <th>1</th>\n",
       "      <td>0.383254</td>\n",
       "      <td>0.244064</td>\n",
       "      <td>0.456073</td>\n",
       "      <td>0.482506</td>\n",
       "      <td>0.312198</td>\n",
       "    </tr>\n",
       "    <tr>\n",
       "      <th>2</th>\n",
       "      <td>0.253718</td>\n",
       "      <td>0.464099</td>\n",
       "      <td>0.516550</td>\n",
       "      <td>0.438659</td>\n",
       "      <td>0.251083</td>\n",
       "    </tr>\n",
       "    <tr>\n",
       "      <th>3</th>\n",
       "      <td>0.459658</td>\n",
       "      <td>0.481806</td>\n",
       "      <td>0.450207</td>\n",
       "      <td>0.288065</td>\n",
       "      <td>0.000000</td>\n",
       "    </tr>\n",
       "    <tr>\n",
       "      <th>4</th>\n",
       "      <td>0.328062</td>\n",
       "      <td>0.327182</td>\n",
       "      <td>0.248880</td>\n",
       "      <td>0.000000</td>\n",
       "      <td>0.000000</td>\n",
       "    </tr>\n",
       "  </tbody>\n",
       "</table>\n",
       "</div>"
      ],
      "text/plain": [
       "          0         1         2         3         4\n",
       "0  0.436258  0.390186  0.252355  0.469171  0.330828\n",
       "1  0.383254  0.244064  0.456073  0.482506  0.312198\n",
       "2  0.253718  0.464099  0.516550  0.438659  0.251083\n",
       "3  0.459658  0.481806  0.450207  0.288065  0.000000\n",
       "4  0.328062  0.327182  0.248880  0.000000  0.000000"
      ]
     },
     "execution_count": 135,
     "metadata": {},
     "output_type": "execute_result"
    }
   ],
   "source": [
    "pd.DataFrame(pred_squeezed[0,0,:,:])"
   ]
  },
  {
   "cell_type": "code",
   "execution_count": 70,
   "id": "1f347f14",
   "metadata": {},
   "outputs": [],
   "source": [
    "def apply_symmetry(tensor):\n",
    "  \"\"\"\n",
    "  텐서의 마지막 두 축을 기준으로 대각 대칭 행렬로 변환합니다.\n",
    "  (y, x)와 (x, y) 요소의 평균값을 계산하여 두 위치에 모두 적용합니다.\n",
    "\n",
    "  Args:\n",
    "    tensor: (..., H, W) 형태의 NumPy 배열.\n",
    "            여기서는 (batch_size, 24, 5, 5) 형태의 텐서입니다.\n",
    "\n",
    "  Returns:\n",
    "    마지막 두 축이 대각 대칭으로 변환된 새로운 텐서.\n",
    "  \"\"\"\n",
    "  # 마지막 두 축(y, x)을 전치(transpose)합니다.\n",
    "  # 예를 들어, (0, 1, 2, 3) 축을 (0, 1, 3, 2) 순서로 바꿉니다.\n",
    "  transposed_tensor = np.transpose(tensor, axes=(0, 1, 3, 2))\n",
    "\n",
    "  # 원본 텐서와 전치된 텐서를 더한 후 2로 나누어 평균을 구합니다.\n",
    "  symmetric_tensor = (tensor + transposed_tensor) / 2\n",
    "\n",
    "  return symmetric_tensor"
   ]
  },
  {
   "cell_type": "code",
   "execution_count": 139,
   "id": "ec428231",
   "metadata": {},
   "outputs": [],
   "source": [
    "pred_symmetric = apply_symmetry(pred_squeezed)"
   ]
  },
  {
   "cell_type": "code",
   "execution_count": 132,
   "id": "77a38c15",
   "metadata": {},
   "outputs": [],
   "source": [
    "import pandas as pd"
   ]
  },
  {
   "cell_type": "code",
   "execution_count": 142,
   "id": "e39b5a6f",
   "metadata": {},
   "outputs": [
    {
     "data": {
      "text/html": [
       "<div>\n",
       "<style scoped>\n",
       "    .dataframe tbody tr th:only-of-type {\n",
       "        vertical-align: middle;\n",
       "    }\n",
       "\n",
       "    .dataframe tbody tr th {\n",
       "        vertical-align: top;\n",
       "    }\n",
       "\n",
       "    .dataframe thead th {\n",
       "        text-align: right;\n",
       "    }\n",
       "</style>\n",
       "<table border=\"1\" class=\"dataframe\">\n",
       "  <thead>\n",
       "    <tr style=\"text-align: right;\">\n",
       "      <th></th>\n",
       "      <th>0</th>\n",
       "      <th>1</th>\n",
       "      <th>2</th>\n",
       "      <th>3</th>\n",
       "      <th>4</th>\n",
       "    </tr>\n",
       "  </thead>\n",
       "  <tbody>\n",
       "    <tr>\n",
       "      <th>0</th>\n",
       "      <td>0.436258</td>\n",
       "      <td>0.386720</td>\n",
       "      <td>0.253036</td>\n",
       "      <td>0.464415</td>\n",
       "      <td>0.329445</td>\n",
       "    </tr>\n",
       "    <tr>\n",
       "      <th>1</th>\n",
       "      <td>0.386720</td>\n",
       "      <td>0.244064</td>\n",
       "      <td>0.460086</td>\n",
       "      <td>0.482156</td>\n",
       "      <td>0.319690</td>\n",
       "    </tr>\n",
       "    <tr>\n",
       "      <th>2</th>\n",
       "      <td>0.253036</td>\n",
       "      <td>0.460086</td>\n",
       "      <td>0.516550</td>\n",
       "      <td>0.444433</td>\n",
       "      <td>0.249982</td>\n",
       "    </tr>\n",
       "    <tr>\n",
       "      <th>3</th>\n",
       "      <td>0.464415</td>\n",
       "      <td>0.482156</td>\n",
       "      <td>0.444433</td>\n",
       "      <td>0.288065</td>\n",
       "      <td>0.000000</td>\n",
       "    </tr>\n",
       "    <tr>\n",
       "      <th>4</th>\n",
       "      <td>0.329445</td>\n",
       "      <td>0.319690</td>\n",
       "      <td>0.249982</td>\n",
       "      <td>0.000000</td>\n",
       "      <td>0.000000</td>\n",
       "    </tr>\n",
       "  </tbody>\n",
       "</table>\n",
       "</div>"
      ],
      "text/plain": [
       "          0         1         2         3         4\n",
       "0  0.436258  0.386720  0.253036  0.464415  0.329445\n",
       "1  0.386720  0.244064  0.460086  0.482156  0.319690\n",
       "2  0.253036  0.460086  0.516550  0.444433  0.249982\n",
       "3  0.464415  0.482156  0.444433  0.288065  0.000000\n",
       "4  0.329445  0.319690  0.249982  0.000000  0.000000"
      ]
     },
     "execution_count": 142,
     "metadata": {},
     "output_type": "execute_result"
    }
   ],
   "source": [
    "pd.DataFrame(pred_symmetric[0,0,:,:])"
   ]
  },
  {
   "cell_type": "code",
   "execution_count": null,
   "id": "087383b0",
   "metadata": {},
   "outputs": [
    {
     "ename": "SyntaxError",
     "evalue": "invalid syntax (3697020395.py, line 1)",
     "output_type": "error",
     "traceback": [
      "  \u001b[36mCell\u001b[39m\u001b[36m \u001b[39m\u001b[32mIn[143]\u001b[39m\u001b[32m, line 1\u001b[39m\n\u001b[31m    \u001b[39m\u001b[31m<div>\u001b[39m\n    ^\n\u001b[31mSyntaxError\u001b[39m\u001b[31m:\u001b[39m invalid syntax\n"
     ]
    }
   ],
   "source": []
  },
  {
   "cell_type": "code",
   "execution_count": null,
   "id": "5908ea8f",
   "metadata": {},
   "outputs": [],
   "source": []
  }
 ],
 "metadata": {
  "kernelspec": {
   "display_name": "tf2_14",
   "language": "python",
   "name": "tf2_14"
  },
  "language_info": {
   "codemirror_mode": {
    "name": "ipython",
    "version": 3
   },
   "file_extension": ".py",
   "mimetype": "text/x-python",
   "name": "python",
   "nbconvert_exporter": "python",
   "pygments_lexer": "ipython3",
   "version": "3.11.13"
  }
 },
 "nbformat": 4,
 "nbformat_minor": 5
}
